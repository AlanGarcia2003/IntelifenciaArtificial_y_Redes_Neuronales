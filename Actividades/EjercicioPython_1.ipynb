{
  "nbformat": 4,
  "nbformat_minor": 0,
  "metadata": {
    "colab": {
      "provenance": [],
      "authorship_tag": "ABX9TyNPgVpU9jHTgSSXJIdc68nL"
    },
    "kernelspec": {
      "name": "python3",
      "display_name": "Python 3"
    },
    "language_info": {
      "name": "python"
    }
  },
  "cells": [
    {
      "cell_type": "markdown",
      "source": [
        "ALAN GIOVANNI GARCÍA OSORIO\n",
        "2109282 CLASE:N1"
      ],
      "metadata": {
        "id": "vC8ZHC64bDHr"
      }
    },
    {
      "cell_type": "markdown",
      "source": [
        "# **ACTIVIDAD 2**"
      ],
      "metadata": {
        "id": "Ip5fT3zpE5aA"
      }
    },
    {
      "cell_type": "markdown",
      "source": [
        "### Ejercicio 1"
      ],
      "metadata": {
        "id": "CbEpkoNUVNDS"
      }
    },
    {
      "cell_type": "code",
      "source": [
        "print(\"Desarrolla un algoritmo que le pida al usuario por su nombre y que lo salude con su nombre, excepto si se llama “Ana”, “Juan”, y “Pedro”.\")\n",
        "nombre = input(\"Cual es el nombre: \")\n",
        "\n",
        "if nombre.lower() in[\"ana\",\"juan\",\"pedro\"]:\n",
        "    print(\"ERROR\")\n",
        "else:\n",
        "    print(\"Hola \" + nombre)"
      ],
      "metadata": {
        "colab": {
          "base_uri": "https://localhost:8080/"
        },
        "id": "0W9E_lQUC7Tm",
        "outputId": "2358dba6-b1f9-48bf-9b7f-4ea2413ffe9c"
      },
      "execution_count": 42,
      "outputs": [
        {
          "output_type": "stream",
          "name": "stdout",
          "text": [
            "Desarrolla un algoritmo que le pida al usuario por su nombre y que lo salude con su nombre, excepto si se llama “Ana”, “Juan”, y “Pedro”.\n",
            "Cual es el nombre: alan\n",
            "Hola alan\n"
          ]
        }
      ]
    },
    {
      "cell_type": "markdown",
      "source": [
        "### Ejercicio 2"
      ],
      "metadata": {
        "id": "3Q9gS9TVVVmY"
      }
    },
    {
      "cell_type": "code",
      "source": [
        "print(\"Desarrolla un algoritmo que por medio de una función, le pida al usuario una lista de N elementos y como resultado invierta el sentido de la lista. \")\n",
        "\n",
        "numero = int(input(\"Numero de elementos: \"))\n",
        "lista = []\n",
        "for x in range(numero):\n",
        "    elemento = input(\"Cosa {}: \".format(i+1))\n",
        "    lista.append(elemento)\n",
        "listainv = lista[::-1]\n",
        "\n",
        "print(\"La lista invertida es:\", listainv)\n",
        "\n",
        "\n"
      ],
      "metadata": {
        "colab": {
          "base_uri": "https://localhost:8080/"
        },
        "id": "5CIAcRZ6FxAq",
        "outputId": "8b9ec812-341f-41e7-8f1e-8614b5dbebe2"
      },
      "execution_count": null,
      "outputs": [
        {
          "output_type": "stream",
          "name": "stdout",
          "text": [
            "Desarrolla un algoritmo que por medio de una función, le pida al usuario una lista de N elementos y como resultado invierta el sentido de la lista. \n",
            "Numero de elementos: 3\n",
            "Cosa 2: luz\n",
            "Cosa 2: agua\n",
            "Cosa 2: poder\n",
            "La lista invertida es: ['poder', 'agua', 'luz']\n"
          ]
        }
      ]
    },
    {
      "cell_type": "markdown",
      "source": [
        "### Ejercicio 3"
      ],
      "metadata": {
        "id": "d6Etps6RVao-"
      }
    },
    {
      "cell_type": "code",
      "source": [
        "print(\"Desarrolla un algoritmo que le pregunte al usuario cuántos números de la serie de Fibonacci quiere generar y que al final los imprima.\")\n",
        "fi = int(input(\"Cuántos números de la serie de Fibonacci quieres generar? \"))\n",
        "a= 0\n",
        "b=1\n",
        "\n",
        "print(\"Serie de Fibonacci de\", fi, \"números:\")\n",
        "for _ in range(fi):\n",
        "    print(a, \" \")\n",
        "    a, b = b, a + b"
      ],
      "metadata": {
        "colab": {
          "base_uri": "https://localhost:8080/"
        },
        "id": "bMOIaY9bI5Pg",
        "outputId": "dfa21c4f-1c81-4ee9-a217-075ffc7361d6"
      },
      "execution_count": null,
      "outputs": [
        {
          "output_type": "stream",
          "name": "stdout",
          "text": [
            "Ejercicio 3: Desarrolla un algoritmo que le pregunte al usuario cuántos números de la serie de Fibonacci quiere generar y que al final los imprima.\n",
            "Cuántos números de la serie de Fibonacci quieres generar? 2\n",
            "Serie de Fibonacci de 2 números:\n",
            "0  \n",
            "1  \n"
          ]
        }
      ]
    },
    {
      "cell_type": "markdown",
      "source": [
        "### Ejercicio 4"
      ],
      "metadata": {
        "id": "DhKbBSLTVdth"
      }
    },
    {
      "cell_type": "code",
      "source": [
        "print(\"Crea un programa que genere un número aleatorio entre 1 y 100, y luego le pida al usuario que adivine el número. El programa debe proporcionar pistas al usuario si el número es mayor o menor que el número objetivo, y seguir solicitando un nuevo intento hasta que el usuario adivine correctamente..\")\n",
        "\n",
        "import random\n",
        "\n",
        "numero_random = random.randint(1, 100)\n",
        "\n",
        "intentos = 0\n",
        "\n",
        "print(\"¿Cual es el número?\")\n",
        "while True:\n",
        "    intento = int(input(\"Adivina el número: \"))\n",
        "\n",
        "    if intento == numero_random:\n",
        "        print(\"Le atinates, tuviste suerte.\")\n",
        "        break\n",
        "    elif intento < numero_random:\n",
        "        print(\"El número es mayor.\")\n",
        "    else:\n",
        "        print(\"El número es menor.\")"
      ],
      "metadata": {
        "colab": {
          "base_uri": "https://localhost:8080/"
        },
        "id": "hchuy5cYFOVf",
        "outputId": "d926a3b6-cd7c-4bb4-f8fa-765a6606f5ea"
      },
      "execution_count": null,
      "outputs": [
        {
          "output_type": "stream",
          "name": "stdout",
          "text": [
            "Ejercicio 4: Crea un programa que genere un número aleatorio entre 1 y 100, y luego le pida al usuario que adivine el número. El programa debe proporcionar pistas al usuario si el número es mayor o menor que el número objetivo, y seguir solicitando un nuevo intento hasta que el usuario adivine correctamente..\n",
            "¿Cual es el número?\n",
            "Adivina el número: 3\n",
            "El número objetivo es mayor.\n",
            "Adivina el número: 10\n",
            "El número objetivo es mayor.\n",
            "Adivina el número: 50\n",
            "El número objetivo es menor.\n",
            "Adivina el número: 45\n",
            "El número objetivo es menor.\n",
            "Adivina el número: 30\n",
            "El número objetivo es menor.\n",
            "Adivina el número: 20\n",
            "El número objetivo es menor.\n",
            "Adivina el número: 15\n",
            "Le atinates, tuviste suerte 15.\n"
          ]
        }
      ]
    },
    {
      "cell_type": "markdown",
      "source": [
        "### Ejercicio 5"
      ],
      "metadata": {
        "id": "d_zKfWyuVhad"
      }
    },
    {
      "cell_type": "code",
      "source": [
        "print(\"Escribe un programa que solicite al usuario un rango de números y muestre todos los números primos dentro de ese rango.\")\n",
        "def num_primo(numero):\n",
        "    if numero <= 1:\n",
        "        return False\n",
        "    for i in range(2, numero):\n",
        "        if numero % i == 0:\n",
        "            return False\n",
        "    return True\n",
        "\n",
        "x = int(input(\"Numero de inicio: \"))\n",
        "y = int(input(\"Numero final: \"))\n",
        "\n",
        "print(\"Los numeros primos son\")\n",
        "for numero in range(x, y + 1):\n",
        "    if num_primo(numero):\n",
        "        print(numero)\n"
      ],
      "metadata": {
        "colab": {
          "base_uri": "https://localhost:8080/"
        },
        "id": "aSyY1FBVE0PH",
        "outputId": "e6d7c331-f2bc-45b7-eb93-fc1a6f9f05e2"
      },
      "execution_count": null,
      "outputs": [
        {
          "output_type": "stream",
          "name": "stdout",
          "text": [
            "Ejercicio 5: Escribe un programa que solicite al usuario un rango de números y muestre todos los números primos dentro de ese rango.\n",
            "Numero de inicio: 0\n",
            "Numero final: 10\n",
            "Los numeros primos son\n",
            "2\n",
            "3\n",
            "5\n",
            "7\n"
          ]
        }
      ]
    },
    {
      "cell_type": "markdown",
      "source": [
        "### Ejercicio 6"
      ],
      "metadata": {
        "id": "guoGXwp0Vk12"
      }
    },
    {
      "cell_type": "code",
      "source": [
        "print(\"Escribe un programa que solicite al usuario dos números y realice operaciones básicas como suma, resta, multiplicación y división utilizando funciones separadas para cada operación.\")\n",
        "\n",
        "def suma(a, b):\n",
        "    return a + b\n",
        "\n",
        "def resta(a, b):\n",
        "    return a - b\n",
        "\n",
        "def multiplicacion(a, b):\n",
        "    return a * b\n",
        "\n",
        "def division(a, b):\n",
        "    if b == 0:\n",
        "        return \"Error: No se puede dividir por cero\"\n",
        "    else:\n",
        "        return a / b\n",
        "\n",
        "num1 = float(input(\"Primer Numero: \"))\n",
        "num2 = float(input(\"Segundo Numero: \"))\n",
        "\n",
        "print(\"Suma:\", suma(num1, num2))\n",
        "print(\"Resta:\", resta(num1, num2))\n",
        "print(\"Multiplicación:\", multiplicacion(num1, num2))\n",
        "print(\"División:\", division(num1, num2))"
      ],
      "metadata": {
        "colab": {
          "base_uri": "https://localhost:8080/"
        },
        "id": "5eEfI7amT7LE",
        "outputId": "39d4abb7-e909-4fd3-bac9-a937cdbc07be"
      },
      "execution_count": null,
      "outputs": [
        {
          "output_type": "stream",
          "name": "stdout",
          "text": [
            "Ejercicio 6: Escribe un programa que solicite al usuario dos números y realice operaciones básicas como suma, resta, multiplicación y división utilizando funciones separadas para cada operación.\n",
            "Primer Numero: 50\n",
            "Segundo Numero: 2\n",
            "Suma: 52.0\n",
            "Resta: 48.0\n",
            "Multiplicación: 100.0\n",
            "División: 25.0\n"
          ]
        }
      ]
    }
  ]
}